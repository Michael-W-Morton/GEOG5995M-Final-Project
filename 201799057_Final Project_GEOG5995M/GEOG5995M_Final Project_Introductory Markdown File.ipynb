{
 "cells": [
  {
   "cell_type": "markdown",
   "id": "1170f7d0",
   "metadata": {},
   "source": [
    "# GEOG5995M Final Project: Introductory Markdown File\n",
    "\n",
    "Student ID number: 201799057.\r\n"
   ]
  },
  {
   "cell_type": "markdown",
   "id": "55bad4eb-4108-4e5c-a15f-b458059df1c2",
   "metadata": {},
   "source": [
    "This is the introductory markdown file This will provide the reader with information for the purpose of reproducibility. This project seeks to answer the question of where the UK Government should target investment to reduce the deprivation level within the UK given the levelling up program which seeks to diversify investment across the UK rather than concerntrating it within London and the South-East [6]. This form of investment could be targeted towards highly derpived areas of the UK to generate jobs and local services and help to reduce the crime rate."
   ]
  },
  {
   "cell_type": "markdown",
   "id": "329ba9f5-643f-4654-b8f3-00602fc9ee08",
   "metadata": {},
   "source": [
    "The first cell of the the GEOG5995M Final Project notebook imports the packages relevant in both the spatial (spatial environement) and non-spatial (geographical environment) analysis."
   ]
  },
  {
   "cell_type": "markdown",
   "id": "0b5db144",
   "metadata": {},
   "source": [
    "# Step 1: Geographical Environment for Non-Spatial Analysise. \r\n"
   ]
  },
  {
   "cell_type": "markdown",
   "id": "b70dba0c-6edd-4a45-a3b6-f8948189e0ea",
   "metadata": {},
   "source": [
    "Firstly, the user must activate the geog_env for this section. Here, I import the packages relevant only to the non-spatial analysis (geog_env). I then download the Index of Multiple Deprivation (IMD) dataset. This file should be downloaded from the following directory location. Please ensure that you make the appropriate changes to the directory based on the folders used:"
   ]
  },
  {
   "cell_type": "markdown",
   "id": "88f20a98-0450-4cbe-b225-be936aa15fc0",
   "metadata": {},
   "source": [
    "\"C:\\Users\\Documents\\University of Leeds\\201799057_Final Project_GEOG5995M\\File_7_ID_2015_All_ranks__deciles_and_scores_for_the_Indices_of_Deprivation__and_population_denominatorsnd line.csv "
   ]
  },
  {
   "cell_type": "markdown",
   "id": "f04fe4bc-a345-4926-9be6-5e9417544495",
   "metadata": {},
   "source": [
    "Secondly, I generate the descriptive statistics of the dataset such as the data types (dtypes), data information (info), and whether the data contains any missing data (na)."
   ]
  },
  {
   "cell_type": "markdown",
   "id": "85349433-42ee-4f75-b9e7-c467d56236da",
   "metadata": {},
   "source": [
    "Thirdly, I clean the data by removing any variables that are not relevant for the purpose of this analysis. Next, I look up the new descriptive statistics for the dataframe before grouping theata by a key identification sariables. However, for the purpose of this analysis, I will use the group  variable \"the Local Authority District name (2013)\" within the analysis as I wish to find the effects on each local authority instead of smaller areas."
   ]
  },
  {
   "cell_type": "markdown",
   "id": "f1c35826-3738-4930-baf2-6d1fdf759caf",
   "metadata": {},
   "source": [
    "Finally, I perform a linear regresion analysis using crime score as my explanatory variable and the IMD score as my dependent variable. A correlation matrix is also provided to identify other possible relationships between the variables in the dataset. Since I focus on a linear regression, I believe the most appropriate visualisation is a scatter plot containing a  to show the direction of effect."
   ]
  },
  {
   "cell_type": "markdown",
   "id": "21b96788-9ad4-42e5-88f9-0c16bcb5d06d",
   "metadata": {},
   "source": [
    "# Step 2: Spatial Analysis"
   ]
  },
  {
   "cell_type": "markdown",
   "id": "ecae3015-b0c5-4fc5-a4cb-c4d9f9f7f908",
   "metadata": {},
   "source": [
    "Firstly, the user must deactivate the geog_env and activate the spatial_env. Two files are then downloaded into python. This includes the previous dataset file in addition to:"
   ]
  },
  {
   "cell_type": "markdown",
   "id": "571512a6-cbe1-497c-aaf0-9c379a941d75",
   "metadata": {},
   "source": [
    "LSOA_Dec_2011_PWC_in_England_and_Wales.shp"
   ]
  },
  {
   "cell_type": "markdown",
   "id": "7dd40517-79b3-48aa-af0a-c20351fead9b",
   "metadata": {},
   "source": [
    "To facilitate merging of the two datasets, the identification variable within the LSOA (Dec, 2011) datatset (lsoa11cd) is renamed to \"LSOA code 2011\" to match the name of the same variable within the IMD dataset. Since both variables contain the same information, renaming the variable has no impact on the results."
   ]
  },
  {
   "cell_type": "markdown",
   "id": "3d39ac21-f879-49a4-a899-0f0b30ec185a",
   "metadata": {},
   "source": [
    "Secondly, we perform an inner merge upon the IMD dataset using the identification variable \"LSOA code 2011\" as I want to use the geometry varibale and centroids collected within the LSOA (Dec, 2011) dataset to create a spatial analysis of both crime rate and multiple deprivation as identified within the IMD dataset. I do not use the local authority district codes and names specifically targeting smaller areas in this analysiser areas. Next, we drop the columns containing the other identification variathey wills I will not bedtng them in the spatial analysis. The cleaned \"UK_LSOA_Dep_Ind\" dataset is then checked using a coordinate reference system as well as observing the data types."
   ]
  },
  {
   "cell_type": "markdown",
   "id": "5ed4e63e-d6b0-4581-a374-c6fccc382caf",
   "metadata": {},
   "source": [
    "Finally, we perform the analysis using the crime score variable to represent the crime rate of each of the smaller areas of the UK and the IMD score to represent the deprivation levels of these areas. Two choropleth maps are produced to identify the concerntartion of residuals and the level of crime and deprivation. This helps to identify which area of the country is most deprived and higher in crime, allowing policymakers to determine where to target investment to lower the multiple within the UK."
   ]
  }
 ],
 "metadata": {
  "kernelspec": {
   "display_name": "Python 3 (ipykernel)",
   "language": "python",
   "name": "python3"
  },
  "language_info": {
   "codemirror_mode": {
    "name": "ipython",
    "version": 3
   },
   "file_extension": ".py",
   "mimetype": "text/x-python",
   "name": "python",
   "nbconvert_exporter": "python",
   "pygments_lexer": "ipython3",
   "version": "3.11.5"
  }
 },
 "nbformat": 4,
 "nbformat_minor": 5
}
